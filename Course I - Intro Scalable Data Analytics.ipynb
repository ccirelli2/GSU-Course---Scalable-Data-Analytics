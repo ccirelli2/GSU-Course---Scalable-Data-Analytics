{
 "cells": [
  {
   "cell_type": "code",
   "execution_count": null,
   "metadata": {},
   "outputs": [],
   "source": [
    "# Course I - Introduction to Big Data Analytics"
   ]
  },
  {
   "cell_type": "code",
   "execution_count": null,
   "metadata": {},
   "outputs": [],
   "source": [
    "'''\n",
    "Big Data -                          Amounts of data is so big that traditional software can not deal with them. \n",
    "Three Dimensions of Big Data -      Volumne, Variety, Veracity, and Velocity. \n",
    "Mobile                              Lot of data being created by mobile phones.  By 2020 it is estimated that 6bn people \n",
    "                                    will have mobile phones.  In addition the internet of things. \n",
    "Text                                Articles, tweets, documents, blogs and instant messaging. \n",
    "Social Network                      Facebook, twitter. \n",
    "Image data                          Photos. \n",
    "\n",
    "\n",
    "\n",
    "'''"
   ]
  },
  {
   "cell_type": "code",
   "execution_count": null,
   "metadata": {},
   "outputs": [],
   "source": [
    "# Scalable Data Analytics"
   ]
  },
  {
   "cell_type": "code",
   "execution_count": null,
   "metadata": {},
   "outputs": [],
   "source": [
    "'''\n",
    "Approach                           Use a cluster of computers.  Hadoop & spark clusters. \n",
    "Suptercomputer                     Building a super computer is very expensive.\n",
    "Cluster                            Group together a bunch of cheap computers in order to process the big data. \n",
    "                                   Google designed this approach. \n",
    "                                   One front end node is connected to each computer node in the cluster. \n",
    "                                   \n",
    "Distributed File System\n",
    "                                   Large files divided into chunks. \n",
    "                                   Master node maintains the file chunk server lookup table. \n",
    "\n",
    "Google File System                 Store multiple copies of files inside the cluster in case one computer fails so that the\n",
    "                                   user can still get the result. (Look up online). \n",
    "                                   https://en.wikipedia.org/wiki/Google_File_System\n",
    "                                   University of Helsynki Computer Science. \n",
    "                              \n",
    "                        \n",
    "'''"
   ]
  },
  {
   "cell_type": "code",
   "execution_count": null,
   "metadata": {},
   "outputs": [],
   "source": [
    "'''Languages\n",
    "\n",
    "Linux command line                 !! Professor wants us to install Linux on your microsoft laptop. \n",
    "Pyspark                            See if Data Camp has a course.  \n",
    "SQL                                Try to take an online course via Data Camp. \n",
    "\n",
    "'''"
   ]
  },
  {
   "cell_type": "code",
   "execution_count": null,
   "metadata": {},
   "outputs": [],
   "source": []
  },
  {
   "cell_type": "code",
   "execution_count": null,
   "metadata": {},
   "outputs": [],
   "source": []
  },
  {
   "cell_type": "code",
   "execution_count": null,
   "metadata": {},
   "outputs": [],
   "source": []
  },
  {
   "cell_type": "code",
   "execution_count": null,
   "metadata": {},
   "outputs": [],
   "source": []
  },
  {
   "cell_type": "code",
   "execution_count": null,
   "metadata": {},
   "outputs": [],
   "source": []
  },
  {
   "cell_type": "code",
   "execution_count": null,
   "metadata": {},
   "outputs": [],
   "source": []
  },
  {
   "cell_type": "code",
   "execution_count": null,
   "metadata": {},
   "outputs": [],
   "source": []
  }
 ],
 "metadata": {
  "kernelspec": {
   "display_name": "Python 3",
   "language": "python",
   "name": "python3"
  },
  "language_info": {
   "codemirror_mode": {
    "name": "ipython",
    "version": 3
   },
   "file_extension": ".py",
   "mimetype": "text/x-python",
   "name": "python",
   "nbconvert_exporter": "python",
   "pygments_lexer": "ipython3",
   "version": "3.6.1"
  }
 },
 "nbformat": 4,
 "nbformat_minor": 2
}
