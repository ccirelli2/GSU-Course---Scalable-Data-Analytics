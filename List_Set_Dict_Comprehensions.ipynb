{
 "cells": [
  {
   "cell_type": "code",
   "execution_count": null,
   "metadata": {},
   "outputs": [],
   "source": [
    "# Import Libraries"
   ]
  },
  {
   "cell_type": "code",
   "execution_count": 63,
   "metadata": {},
   "outputs": [],
   "source": [
    "import sys\n",
    "import time"
   ]
  },
  {
   "cell_type": "code",
   "execution_count": null,
   "metadata": {},
   "outputs": [],
   "source": [
    "# List Comprehension"
   ]
  },
  {
   "cell_type": "code",
   "execution_count": 2,
   "metadata": {},
   "outputs": [],
   "source": [
    "List_comp = [x*2 for x in range(10) if x%2 == 0]"
   ]
  },
  {
   "cell_type": "code",
   "execution_count": null,
   "metadata": {},
   "outputs": [],
   "source": []
  },
  {
   "cell_type": "code",
   "execution_count": null,
   "metadata": {},
   "outputs": [],
   "source": [
    "# List Comprehension w/ Generators"
   ]
  },
  {
   "cell_type": "code",
   "execution_count": 26,
   "metadata": {},
   "outputs": [],
   "source": [
    "List_comp_gen = (x*2 for x in range(10) if x%2 ==0)"
   ]
  },
  {
   "cell_type": "code",
   "execution_count": 27,
   "metadata": {},
   "outputs": [
    {
     "data": {
      "text/plain": [
       "0"
      ]
     },
     "execution_count": 27,
     "metadata": {},
     "output_type": "execute_result"
    }
   ],
   "source": [
    "next(List_comp_gen)"
   ]
  },
  {
   "cell_type": "code",
   "execution_count": null,
   "metadata": {},
   "outputs": [],
   "source": [
    "# Generator Statements"
   ]
  },
  {
   "cell_type": "code",
   "execution_count": 28,
   "metadata": {},
   "outputs": [],
   "source": [
    "def gen_statement():\n",
    "    for x in range(10):\n",
    "        yield x*2"
   ]
  },
  {
   "cell_type": "code",
   "execution_count": null,
   "metadata": {},
   "outputs": [],
   "source": []
  },
  {
   "cell_type": "code",
   "execution_count": null,
   "metadata": {},
   "outputs": [],
   "source": [
    "# Generator Expressions"
   ]
  },
  {
   "cell_type": "code",
   "execution_count": 59,
   "metadata": {},
   "outputs": [
    {
     "name": "stdout",
     "output_type": "stream",
     "text": [
      "The size in bytes of the Sum list comprehension is => 28\n",
      "The size in bytes of the Sum generator comprehension is => 28\n"
     ]
    },
    {
     "data": {
      "text/plain": [
       "'This very interesting.  Apparently because we are using a built in Python function and only storing one number, the memory usage is the same. \\n\\nThat said, I would assume that if we were to remove the built in function we would get a different result. '"
      ]
     },
     "execution_count": 59,
     "metadata": {},
     "output_type": "execute_result"
    }
   ],
   "source": [
    "'''Task:  Sum squares of a range of numbers. '''\n",
    "\n",
    "# List comprehension + built in Python function\n",
    "Sum_list = sum([x for x in range(1000)])\n",
    "\n",
    "# Generator expression + built in Python function\n",
    "Sum_gen = sum((x for x in range(1000)))\n",
    "\n",
    "\n",
    "# Size of each in memory\n",
    "print('The size in bytes of the Sum list comprehension is =>', sys.getsizeof(Sum_list))\n",
    "print('The size in bytes of the Sum generator comprehension is =>', sys.getsizeof(Sum_gen))\n",
    "\n",
    "\n",
    "'''Takeaways \n",
    "\n",
    "Apparently because we are using a built in Python function and only storing one number, the memory usage is the same. \n",
    "That said, I would assume that if we were to remove the built in function we would get a different result. '''\n",
    " "
   ]
  },
  {
   "cell_type": "code",
   "execution_count": null,
   "metadata": {},
   "outputs": [],
   "source": []
  },
  {
   "cell_type": "code",
   "execution_count": 60,
   "metadata": {},
   "outputs": [
    {
     "name": "stdout",
     "output_type": "stream",
     "text": [
      "The size in bytes of the Sum list comprehension is => 912\n",
      "The size in bytes of the Sum generator comprehension is => 88\n"
     ]
    }
   ],
   "source": [
    "# List comprehension + built in Python function\n",
    "List_comp = [x**2 for x in range(100)]\n",
    "\n",
    "# Generator expression + built in Python function\n",
    "Gen_comp = (x**2 for x in range(100))\n",
    "\n",
    "print('The size in bytes of the Sum list comprehension is =>', sys.getsizeof(List_comp))\n",
    "print('The size in bytes of the Sum generator comprehension is =>', sys.getsizeof(Gen_comp))\n",
    "\n",
    "'''Key takeaways\n",
    "\n",
    "Now there is a huge difference in memory usage between list and gen comprehension tequniques'''\n"
   ]
  },
  {
   "cell_type": "code",
   "execution_count": null,
   "metadata": {},
   "outputs": [],
   "source": []
  },
  {
   "cell_type": "code",
   "execution_count": 87,
   "metadata": {},
   "outputs": [
    {
     "data": {
      "text/plain": [
       "time.struct_time(tm_year=2018, tm_mon=2, tm_mday=13, tm_hour=18, tm_min=12, tm_sec=15, tm_wday=1, tm_yday=44, tm_isdst=0)"
      ]
     },
     "execution_count": 87,
     "metadata": {},
     "output_type": "execute_result"
    }
   ],
   "source": [
    "time.localtime()\n"
   ]
  },
  {
   "cell_type": "code",
   "execution_count": null,
   "metadata": {},
   "outputs": [],
   "source": []
  },
  {
   "cell_type": "code",
   "execution_count": null,
   "metadata": {},
   "outputs": [],
   "source": [
    "pre_runTime = lambda: int(round(time.time() * 1000))\n",
    "Gen_comp = (x**2 for x in range(100))\n",
    "post_runTime = lambda: int(round(time.time() * 1000))"
   ]
  },
  {
   "cell_type": "code",
   "execution_count": null,
   "metadata": {},
   "outputs": [],
   "source": []
  },
  {
   "cell_type": "code",
   "execution_count": null,
   "metadata": {},
   "outputs": [],
   "source": [
    "# Set Comprehension"
   ]
  },
  {
   "cell_type": "code",
   "execution_count": 8,
   "metadata": {},
   "outputs": [],
   "source": [
    "String = 'Today is a good day to code.  I am trying to learn generators and comprehension techniques.  To learn is fun'\n",
    "List_words = String.split(' ' )\n",
    "Exclude_these_words = ['good', 'trying']"
   ]
  },
  {
   "cell_type": "code",
   "execution_count": 10,
   "metadata": {},
   "outputs": [],
   "source": [
    "Test = set(word for word in List_words if word not in Exclude_these_words)"
   ]
  },
  {
   "cell_type": "code",
   "execution_count": null,
   "metadata": {},
   "outputs": [],
   "source": []
  },
  {
   "cell_type": "code",
   "execution_count": null,
   "metadata": {},
   "outputs": [],
   "source": [
    "# Dictionary Comprehensions\n",
    "'''\n",
    "Allow you to express the creation of dictionaries at run time using a similar concise syntax\n",
    "\n",
    "Syntax      {key: value for (key, value) in iterable}\n",
    "'''"
   ]
  },
  {
   "cell_type": "code",
   "execution_count": 15,
   "metadata": {},
   "outputs": [],
   "source": [
    "List_num = [1,2,3,4,5]\n",
    "List_abc = ['A', 'B', 'C', 'D', 'E']"
   ]
  },
  {
   "cell_type": "code",
   "execution_count": 21,
   "metadata": {},
   "outputs": [
    {
     "data": {
      "text/plain": [
       "[('A', 1), ('B', 2), ('C', 3), ('D', 4), ('E', 5)]"
      ]
     },
     "execution_count": 21,
     "metadata": {},
     "output_type": "execute_result"
    }
   ],
   "source": [
    "{k: v for (k,v) in zip(List_abc, List_num)}\n",
    "\n",
    "[(k,v) for (k,v) in zip(List_abc, List_num)]"
   ]
  },
  {
   "cell_type": "code",
   "execution_count": null,
   "metadata": {},
   "outputs": [],
   "source": []
  },
  {
   "cell_type": "code",
   "execution_count": null,
   "metadata": {},
   "outputs": [],
   "source": [
    "# Set Comprehensions\n",
    "\n",
    "'''By just wrapping any list of values between { } python will return a set.'''"
   ]
  },
  {
   "cell_type": "code",
   "execution_count": 108,
   "metadata": {},
   "outputs": [],
   "source": [
    "Test_set_comp = {'Today', 'is', 5, 1,2,3,4, 'a', 'good', 'Today', 22,3,2, 4}\n",
    "Test_set_set = set(['Today', 'is', 5, 1,2,3,4, 'a', 'good', 'Today', 22,3,2, 4])"
   ]
  },
  {
   "cell_type": "code",
   "execution_count": 98,
   "metadata": {},
   "outputs": [],
   "source": [
    "from timeit import timeit"
   ]
  },
  {
   "cell_type": "code",
   "execution_count": null,
   "metadata": {},
   "outputs": [],
   "source": []
  },
  {
   "cell_type": "code",
   "execution_count": null,
   "metadata": {},
   "outputs": [],
   "source": []
  },
  {
   "cell_type": "code",
   "execution_count": null,
   "metadata": {},
   "outputs": [],
   "source": []
  },
  {
   "cell_type": "code",
   "execution_count": null,
   "metadata": {},
   "outputs": [],
   "source": []
  }
 ],
 "metadata": {
  "kernelspec": {
   "display_name": "Python 3",
   "language": "python",
   "name": "python3"
  },
  "language_info": {
   "codemirror_mode": {
    "name": "ipython",
    "version": 3
   },
   "file_extension": ".py",
   "mimetype": "text/x-python",
   "name": "python",
   "nbconvert_exporter": "python",
   "pygments_lexer": "ipython3",
   "version": "3.6.1"
  }
 },
 "nbformat": 4,
 "nbformat_minor": 2
}
