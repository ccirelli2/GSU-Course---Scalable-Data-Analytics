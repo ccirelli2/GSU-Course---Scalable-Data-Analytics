{
 "cells": [
  {
   "cell_type": "code",
   "execution_count": 4,
   "metadata": {},
   "outputs": [
    {
     "name": "stdout",
     "output_type": "stream",
     "text": [
      "[('Hello', 1), ('World', 1), ('Hello', 1), ('Python', 1)]\n"
     ]
    }
   ],
   "source": [
    "def tranform(y):\n",
    "    count = 1\n",
    "    return (y[1],count)\n",
    "\n",
    "k1v1_new = [(0,\"Hello\"),(0,\"World\"),(0,\"Hello\"),(0,\"Python\")]\n",
    "k2v2 = map(tranform,k1v1_new)\n",
    "\n",
    "print k2v2"
   ]
  },
  {
   "cell_type": "code",
   "execution_count": 5,
   "metadata": {},
   "outputs": [
    {
     "name": "stdout",
     "output_type": "stream",
     "text": [
      "[('Hello', 1), ('World', 1), ('Hello', 1), ('Python', 1)]\n"
     ]
    }
   ],
   "source": [
    "k2v2 = [(\"Hello\",1),(\"World\",1),(\"Hello\",1),(\"Python\",1)]\n",
    "print k2v2"
   ]
  },
  {
   "cell_type": "code",
   "execution_count": 8,
   "metadata": {
    "collapsed": true
   },
   "outputs": [],
   "source": [
    "import csv\n",
    "import dateutil"
   ]
  },
  {
   "cell_type": "code",
   "execution_count": 11,
   "metadata": {},
   "outputs": [
    {
     "name": "stdout",
     "output_type": "stream",
     "text": [
      "2015-02-01 00:00:00+00\n",
      "6 0\n"
     ]
    }
   ],
   "source": [
    "with open(\"citibike.csv\",\"r\") as fi:\n",
    "    reader = csv.DictReader(fi)\n",
    "    for row in reader:\n",
    "        starttime = dateutil.parser.parse(row[\"starttime\"])\n",
    "        print row[\"starttime\"]\n",
    "        print starttime.weekday(),starttime.hour\n",
    "        break"
   ]
  },
  {
   "cell_type": "code",
   "execution_count": 17,
   "metadata": {
    "collapsed": true,
    "scrolled": false
   },
   "outputs": [],
   "source": [
    "def citibike2hod(filename):\n",
    "    with open(filename,'r') as fi:\n",
    "        reader = csv.DictReader(fi)\n",
    "        for row in reader:\n",
    "            starttime = dateutil.parser.parse(row['starttime'])\n",
    "            yield starttime.hour\n",
    "count = {}\n",
    "for hod in citibike2hod(\"citibike.csv\"):\n",
    "    count[hod] = count.get(hod,0)+1"
   ]
  },
  {
   "cell_type": "code",
   "execution_count": 18,
   "metadata": {},
   "outputs": [
    {
     "name": "stdout",
     "output_type": "stream",
     "text": [
      "{0: 401, 1: 248, 2: 117, 3: 89, 4: 89, 5: 293, 6: 988, 7: 2037, 8: 3668, 9: 3108, 10: 2241, 11: 2090, 12: 2289, 13: 2443, 14: 2685, 15: 2856, 16: 3471, 17: 4788, 18: 4270, 19: 2839, 20: 1844, 21: 1343, 22: 1192, 23: 811}\n"
     ]
    }
   ],
   "source": [
    "print count"
   ]
  },
  {
   "cell_type": "code",
   "execution_count": 20,
   "metadata": {
    "collapsed": true
   },
   "outputs": [],
   "source": [
    "import pandas as pd\n",
    "import seaborn as sns\n",
    "%matplotlib inline\n",
    "import matplotlib.pyplot as plt"
   ]
  },
  {
   "cell_type": "code",
   "execution_count": 21,
   "metadata": {},
   "outputs": [
    {
     "data": {
      "image/png": "[encoded data removed]",
      "text/plain": [
       "<matplotlib.figure.Figure at 0x11594ea10>"
      ]
     },
     "metadata": {},
     "output_type": "display_data"
    }
   ],
   "source": [
    "data = {\"hod\":count.keys(),\"count\":count.values()}\n",
    "df = pd.DataFrame.from_dict(data)\n",
    "plt.figure(figsize = (8,6))\n",
    "ax = sns.barplot(x = \"hod\",y=\"count\",data = data, color = \"b\",ci = None)"
   ]
  },
  {
   "cell_type": "code",
   "execution_count": null,
   "metadata": {
    "collapsed": true
   },
   "outputs": [],
   "source": []
  }
 ],
 "metadata": {
  "kernelspec": {
   "display_name": "Python 3",
   "language": "python",
   "name": "python3"
  },
  "language_info": {
   "codemirror_mode": {
    "name": "ipython",
    "version": 3
   },
   "file_extension": ".py",
   "mimetype": "text/x-python",
   "name": "python",
   "nbconvert_exporter": "python",
   "pygments_lexer": "ipython3",
   "version": "3.6.1"
  }
 },
 "nbformat": 4,
 "nbformat_minor": 2
}
