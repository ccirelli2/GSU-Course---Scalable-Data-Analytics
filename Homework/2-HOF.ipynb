{
 "cells": [
  {
   "cell_type": "code",
   "execution_count": null,
   "metadata": {},
   "outputs": [],
   "source": [
    "# Import Functions"
   ]
  },
  {
   "cell_type": "code",
   "execution_count": 2,
   "metadata": {},
   "outputs": [],
   "source": [
    "import functools\n",
    "import pandas as pd"
   ]
  },
  {
   "cell_type": "code",
   "execution_count": null,
   "metadata": {},
   "outputs": [],
   "source": []
  },
  {
   "cell_type": "code",
   "execution_count": null,
   "metadata": {},
   "outputs": [],
   "source": [
    "# PART A"
   ]
  },
  {
   "cell_type": "code",
   "execution_count": null,
   "metadata": {},
   "outputs": [],
   "source": []
  },
  {
   "cell_type": "code",
   "execution_count": 9,
   "metadata": {},
   "outputs": [],
   "source": [
    "# Import File\n",
    "df = pd.read_csv(r'C:\\Users\\Chris.Cirelli\\Desktop\\Python Programming Docs\\GSU\\GSU-Course---Scalable-Data-Analytics\\Datafiles\\citibike2.csv')"
   ]
  },
  {
   "cell_type": "code",
   "execution_count": 10,
   "metadata": {},
   "outputs": [],
   "source": [
    "# Create List of Lists\n",
    "rows = df.values.tolist()"
   ]
  },
  {
   "cell_type": "code",
   "execution_count": null,
   "metadata": {},
   "outputs": [],
   "source": [
    "# Create a Function to Transform the List"
   ]
  },
  {
   "cell_type": "code",
   "execution_count": 13,
   "metadata": {},
   "outputs": [],
   "source": [
    "def gender_transform(x):\n",
    "    # Return a 1 or 0 depending on what is in the list position\n",
    "    if x[-1] == 1:\n",
    "        return (1,0)\n",
    "    else:\n",
    "        return (0,1)"
   ]
  },
  {
   "cell_type": "code",
   "execution_count": null,
   "metadata": {},
   "outputs": [],
   "source": [
    "# Map the transformer over the rows"
   ]
  },
  {
   "cell_type": "code",
   "execution_count": 12,
   "metadata": {},
   "outputs": [],
   "source": [
    "gender = map(gender_transform, rows)"
   ]
  },
  {
   "cell_type": "code",
   "execution_count": null,
   "metadata": {},
   "outputs": [],
   "source": [
    "# Reduce the values to a tuple of two numbers representing the sum of (x,y)"
   ]
  },
  {
   "cell_type": "code",
   "execution_count": 14,
   "metadata": {},
   "outputs": [
    {
     "data": {
      "text/plain": [
       "(37805, 8395)"
      ]
     },
     "execution_count": 14,
     "metadata": {},
     "output_type": "execute_result"
    }
   ],
   "source": [
    "functools.reduce(lambda x,y: (x[0]+y[0],x[1]+y[1]), gender)"
   ]
  },
  {
   "cell_type": "code",
   "execution_count": null,
   "metadata": {},
   "outputs": [],
   "source": []
  },
  {
   "cell_type": "code",
   "execution_count": null,
   "metadata": {},
   "outputs": [],
   "source": [
    "# PART B"
   ]
  },
  {
   "cell_type": "code",
   "execution_count": 31,
   "metadata": {},
   "outputs": [],
   "source": [
    "df_limit = df['birth_year'] > 0\n",
    "df_by_greater_zero = df[df_greater_zero]"
   ]
  },
  {
   "cell_type": "code",
   "execution_count": 15,
   "metadata": {},
   "outputs": [],
   "source": [
    "# Create transformer\n",
    "def tranform_year(x):\n",
    "    return (x,1)"
   ]
  },
  {
   "cell_type": "code",
   "execution_count": 36,
   "metadata": {},
   "outputs": [],
   "source": [
    "year = map(tranform_year, df_by_greater_zero['birth_year'])\n",
    "\n",
    "Dict = {}\n",
    "\n",
    "for x in year: \n",
    "    Dict[x[0]] = Dict.get(x[0],0) +1"
   ]
  },
  {
   "cell_type": "code",
   "execution_count": 37,
   "metadata": {},
   "outputs": [
    {
     "data": {
      "text/plain": [
       "{1900.0: 22,\n",
       " 1901.0: 1,\n",
       " 1910.0: 2,\n",
       " 1922.0: 4,\n",
       " 1926.0: 1,\n",
       " 1929.0: 1,\n",
       " 1934.0: 8,\n",
       " 1935.0: 9,\n",
       " 1938.0: 24,\n",
       " 1939.0: 4,\n",
       " 1940.0: 21,\n",
       " 1941.0: 39,\n",
       " 1942.0: 61,\n",
       " 1943.0: 18,\n",
       " 1944.0: 59,\n",
       " 1945.0: 28,\n",
       " 1946.0: 93,\n",
       " 1947.0: 74,\n",
       " 1948.0: 149,\n",
       " 1949.0: 134,\n",
       " 1950.0: 150,\n",
       " 1951.0: 229,\n",
       " 1952.0: 247,\n",
       " 1953.0: 346,\n",
       " 1954.0: 417,\n",
       " 1955.0: 413,\n",
       " 1956.0: 488,\n",
       " 1957.0: 449,\n",
       " 1958.0: 783,\n",
       " 1959.0: 687,\n",
       " 1960.0: 771,\n",
       " 1961.0: 618,\n",
       " 1962.0: 899,\n",
       " 1963.0: 970,\n",
       " 1964.0: 891,\n",
       " 1965.0: 947,\n",
       " 1966.0: 863,\n",
       " 1967.0: 999,\n",
       " 1968.0: 1010,\n",
       " 1969.0: 1133,\n",
       " 1970.0: 1347,\n",
       " 1971.0: 1162,\n",
       " 1972.0: 1081,\n",
       " 1973.0: 1022,\n",
       " 1974.0: 1158,\n",
       " 1975.0: 1071,\n",
       " 1976.0: 1168,\n",
       " 1977.0: 1122,\n",
       " 1978.0: 1377,\n",
       " 1979.0: 1279,\n",
       " 1980.0: 1509,\n",
       " 1981.0: 1499,\n",
       " 1982.0: 1455,\n",
       " 1983.0: 1793,\n",
       " 1984.0: 1714,\n",
       " 1985.0: 1673,\n",
       " 1986.0: 1568,\n",
       " 1987.0: 1730,\n",
       " 1988.0: 1358,\n",
       " 1989.0: 1322,\n",
       " 1990.0: 1361,\n",
       " 1991.0: 922,\n",
       " 1992.0: 493,\n",
       " 1993.0: 470,\n",
       " 1994.0: 392,\n",
       " 1995.0: 256,\n",
       " 1996.0: 124,\n",
       " 1997.0: 94,\n",
       " 1998.0: 59,\n",
       " 1999.0: 17}"
      ]
     },
     "execution_count": 37,
     "metadata": {},
     "output_type": "execute_result"
    }
   ],
   "source": [
    "Dict"
   ]
  },
  {
   "cell_type": "code",
   "execution_count": null,
   "metadata": {},
   "outputs": [],
   "source": []
  },
  {
   "cell_type": "code",
   "execution_count": null,
   "metadata": {},
   "outputs": [],
   "source": []
  },
  {
   "cell_type": "code",
   "execution_count": null,
   "metadata": {},
   "outputs": [],
   "source": []
  },
  {
   "cell_type": "code",
   "execution_count": null,
   "metadata": {},
   "outputs": [],
   "source": []
  },
  {
   "cell_type": "code",
   "execution_count": null,
   "metadata": {},
   "outputs": [],
   "source": []
  }
 ],
 "metadata": {
  "kernelspec": {
   "display_name": "Python 3",
   "language": "python",
   "name": "python3"
  },
  "language_info": {
   "codemirror_mode": {
    "name": "ipython",
    "version": 3
   },
   "file_extension": ".py",
   "mimetype": "text/x-python",
   "name": "python",
   "nbconvert_exporter": "python",
   "pygments_lexer": "ipython3",
   "version": "3.6.1"
  }
 },
 "nbformat": 4,
 "nbformat_minor": 2
}
