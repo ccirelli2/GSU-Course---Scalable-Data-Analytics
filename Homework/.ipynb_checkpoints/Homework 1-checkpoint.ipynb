{
 "cells": [
  {
   "cell_type": "code",
   "execution_count": null,
   "metadata": {},
   "outputs": [],
   "source": [
    "# Import Packages"
   ]
  },
  {
   "cell_type": "code",
   "execution_count": 108,
   "metadata": {},
   "outputs": [],
   "source": [
    "import csv\n",
    "import pandas as pd\n",
    "import os\n",
    "import sys\n",
    "import functools\n",
    "import matplotlib.pyplot as plt"
   ]
  },
  {
   "cell_type": "code",
   "execution_count": null,
   "metadata": {},
   "outputs": [],
   "source": [
    "# Import File"
   ]
  },
  {
   "cell_type": "code",
   "execution_count": 101,
   "metadata": {},
   "outputs": [],
   "source": [
    "Csv_file = r'''C:\\Users\\Chris.Cirelli\\Desktop\\Python Programming Docs\\GSU\\GSU-Course---Scalable-Data-Analytics\\Datafiles\\citibike2.csv'''"
   ]
  },
  {
   "cell_type": "code",
   "execution_count": null,
   "metadata": {},
   "outputs": [],
   "source": []
  },
  {
   "cell_type": "code",
   "execution_count": null,
   "metadata": {},
   "outputs": [],
   "source": [
    "# Create Frequency Distribution of Age "
   ]
  },
  {
   "cell_type": "code",
   "execution_count": 126,
   "metadata": {},
   "outputs": [],
   "source": [
    "def get_Freq_dist_age(File):\n",
    "    '''\n",
    "    Purpose = To create a frequency distribution of the ages represented in the Csv file provided.\n",
    "    Input   = CSV File\n",
    "    Output  = Dictionary whose keys = age and values = frequency. \n",
    "    '''\n",
    "    # Create dict to capture freq dict.  \n",
    "    Freq_dist_age = {}\n",
    "    # Open csv file in read mode\n",
    "    with open(File, 'r') as csvfile:\n",
    "        # Define reader. \n",
    "        reader = csv.DictReader(csvfile)\n",
    "        # Iterate successively over each row of the csv file\n",
    "        for row in reader:\n",
    "            # Identify birth year\n",
    "            Birth_year = row['birth_year']\n",
    "            # If year > 0\n",
    "            if len(Birth_year) > 0:\n",
    "                # Data is presented as a floating string w/ two zeros\n",
    "                Value = Birth_year[:4]\n",
    "                # convert to int\n",
    "                Year = int(Value)\n",
    "                # Calculate age\n",
    "                Age = (2018 - Year)\n",
    "                # Build freq distribution using a dict object. \n",
    "                Freq_dist_age[Age] = Freq_dist_age.get(Age,0) +1  \n",
    "    # Return to the user the freq dist dict object. \n",
    "    return Freq_dist_age"
   ]
  },
  {
   "cell_type": "code",
   "execution_count": 242,
   "metadata": {},
   "outputs": [],
   "source": [
    "Freq_dist_age_dict = get_Freq_dist_age(Csv_file)"
   ]
  },
  {
   "cell_type": "code",
   "execution_count": null,
   "metadata": {},
   "outputs": [],
   "source": []
  },
  {
   "cell_type": "code",
   "execution_count": null,
   "metadata": {},
   "outputs": [],
   "source": [
    "# GET MEDIAN AGE"
   ]
  },
  {
   "cell_type": "code",
   "execution_count": 243,
   "metadata": {},
   "outputs": [],
   "source": [
    "def get_median_key(Median, Freq_dist):\n",
    "    '''\n",
    "    Purpose  = Get the key that is associated with the mid-point of the distribution\n",
    "    Input    = Median of dist    \n",
    "    Output   = Median Key\n",
    "    '''\n",
    "    # Total of values\n",
    "    Total = 0\n",
    "    # Iterate keys of the dictionary\n",
    "    for key in Freq_dist_age_dict.keys():\n",
    "        # Get value of key\n",
    "        Value = Freq_dist_age_dict[key]\n",
    "        # Add value to total. \n",
    "        Total += Value\n",
    "        # Conditional statement - Stop addition once Total is > Median. \n",
    "        if Total > Median:\n",
    "            # return median key to user. \n",
    "            return(key)\n",
    "            break"
   ]
  },
  {
   "cell_type": "code",
   "execution_count": 246,
   "metadata": {},
   "outputs": [],
   "source": [
    "def get_median_age_freq_dist(Freq_dist):\n",
    "    '''\n",
    "    Input  = DIctionary w/ freq distribution\n",
    "    Output = Return median age for the distribution \n",
    "    '''\n",
    "    # Get total observations\n",
    "    Total_observations = sum(Freq_dist.values())\n",
    "    # Calculate mid-point of num of observations\n",
    "    Mid_point_dist = int(Total_observations / 2)\n",
    "    # Get Median\n",
    "    Median_key = get_median_key(Mid_point_dist, Freq_dist)\n",
    "    \n",
    "    return Median_key"
   ]
  },
  {
   "cell_type": "code",
   "execution_count": 247,
   "metadata": {},
   "outputs": [
    {
     "data": {
      "text/plain": [
       "37"
      ]
     },
     "execution_count": 247,
     "metadata": {},
     "output_type": "execute_result"
    }
   ],
   "source": [
    "Median_age = get_median_age_freq_dist(Freq_dist_age_dict)\n",
    "Median_age"
   ]
  },
  {
   "cell_type": "code",
   "execution_count": 227,
   "metadata": {},
   "outputs": [],
   "source": []
  },
  {
   "cell_type": "code",
   "execution_count": null,
   "metadata": {},
   "outputs": [],
   "source": [
    "# Create Histogram of Freq Dist Dictionary"
   ]
  },
  {
   "cell_type": "code",
   "execution_count": null,
   "metadata": {},
   "outputs": [],
   "source": []
  },
  {
   "cell_type": "code",
   "execution_count": null,
   "metadata": {},
   "outputs": [],
   "source": []
  },
  {
   "cell_type": "code",
   "execution_count": null,
   "metadata": {},
   "outputs": [],
   "source": [
    "'''\n",
    "matplotlib.pyplot.hist(x, bins=None, range=None, density=None, weights=None, cumulative=False, \n",
    "bottom=None, histtype='bar', align='mid', orientation='vertical', rwidth=None, \n",
    "log=False, color=None, label=None, stacked=False, normed=None, hold=None, data=None, **kwargs)\n",
    "\n",
    "'''"
   ]
  },
  {
   "cell_type": "code",
   "execution_count": 270,
   "metadata": {},
   "outputs": [],
   "source": [
    "x = list(Freq_dist_age_dict.values())"
   ]
  },
  {
   "cell_type": "code",
   "execution_count": 269,
   "metadata": {},
   "outputs": [
    {
     "data": {
      "text/plain": [
       "(array([ 25.,   7.,   5.,   5.,   9.,   7.,   8.,   4.]),\n",
       " array([  1.00000000e+00,   2.25000000e+02,   4.49000000e+02,\n",
       "          6.73000000e+02,   8.97000000e+02,   1.12100000e+03,\n",
       "          1.34500000e+03,   1.56900000e+03,   1.79300000e+03]),\n",
       " <a list of 8 Patch objects>)"
      ]
     },
     "execution_count": 269,
     "metadata": {},
     "output_type": "execute_result"
    },
    {
     "data": {
      "image/png": "[encoded data removed]",
      "text/plain": [
       "<matplotlib.figure.Figure at 0x21563524f98>"
      ]
     },
     "metadata": {},
     "output_type": "display_data"
    }
   ],
   "source": [
    "plt.hist(x, bins = 8, align = 'mid')"
   ]
  },
  {
   "cell_type": "code",
   "execution_count": null,
   "metadata": {},
   "outputs": [],
   "source": []
  },
  {
   "cell_type": "code",
   "execution_count": null,
   "metadata": {},
   "outputs": [],
   "source": []
  },
  {
   "cell_type": "code",
   "execution_count": null,
   "metadata": {},
   "outputs": [],
   "source": []
  },
  {
   "cell_type": "code",
   "execution_count": null,
   "metadata": {},
   "outputs": [],
   "source": []
  },
  {
   "cell_type": "code",
   "execution_count": null,
   "metadata": {},
   "outputs": [],
   "source": []
  },
  {
   "cell_type": "code",
   "execution_count": 72,
   "metadata": {},
   "outputs": [],
   "source": []
  },
  {
   "cell_type": "code",
   "execution_count": 130,
   "metadata": {},
   "outputs": [],
   "source": []
  },
  {
   "cell_type": "code",
   "execution_count": 47,
   "metadata": {},
   "outputs": [],
   "source": []
  },
  {
   "cell_type": "code",
   "execution_count": 131,
   "metadata": {},
   "outputs": [],
   "source": []
  },
  {
   "cell_type": "code",
   "execution_count": 132,
   "metadata": {},
   "outputs": [],
   "source": []
  },
  {
   "cell_type": "code",
   "execution_count": 133,
   "metadata": {},
   "outputs": [
    {
     "data": {
      "text/plain": [
       "(37805, 8395)"
      ]
     },
     "execution_count": 133,
     "metadata": {},
     "output_type": "execute_result"
    }
   ],
   "source": []
  },
  {
   "cell_type": "code",
   "execution_count": null,
   "metadata": {},
   "outputs": [],
   "source": []
  },
  {
   "cell_type": "code",
   "execution_count": null,
   "metadata": {},
   "outputs": [],
   "source": []
  },
  {
   "cell_type": "code",
   "execution_count": 137,
   "metadata": {},
   "outputs": [],
   "source": []
  },
  {
   "cell_type": "code",
   "execution_count": 158,
   "metadata": {},
   "outputs": [],
   "source": []
  },
  {
   "cell_type": "code",
   "execution_count": null,
   "metadata": {},
   "outputs": [],
   "source": []
  },
  {
   "cell_type": "code",
   "execution_count": null,
   "metadata": {},
   "outputs": [],
   "source": []
  },
  {
   "cell_type": "code",
   "execution_count": null,
   "metadata": {},
   "outputs": [],
   "source": []
  },
  {
   "cell_type": "code",
   "execution_count": null,
   "metadata": {},
   "outputs": [],
   "source": []
  },
  {
   "cell_type": "code",
   "execution_count": null,
   "metadata": {},
   "outputs": [],
   "source": []
  },
  {
   "cell_type": "code",
   "execution_count": null,
   "metadata": {},
   "outputs": [],
   "source": []
  },
  {
   "cell_type": "code",
   "execution_count": null,
   "metadata": {},
   "outputs": [],
   "source": []
  },
  {
   "cell_type": "code",
   "execution_count": null,
   "metadata": {},
   "outputs": [],
   "source": []
  }
 ],
 "metadata": {
  "kernelspec": {
   "display_name": "Python 3",
   "language": "python",
   "name": "python3"
  },
  "language_info": {
   "codemirror_mode": {
    "name": "ipython",
    "version": 3
   },
   "file_extension": ".py",
   "mimetype": "text/x-python",
   "name": "python",
   "nbconvert_exporter": "python",
   "pygments_lexer": "ipython3",
   "version": "3.6.1"
  }
 },
 "nbformat": 4,
 "nbformat_minor": 2
}
